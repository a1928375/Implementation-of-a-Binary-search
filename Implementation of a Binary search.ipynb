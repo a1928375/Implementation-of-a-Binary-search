{
 "cells": [
  {
   "cell_type": "markdown",
   "metadata": {},
   "source": [
    "# Binary search-iterative"
   ]
  },
  {
   "cell_type": "code",
   "execution_count": 4,
   "metadata": {},
   "outputs": [],
   "source": [
    "def binary_search_iterative(arr, ele):\n",
    "    \n",
    "    while arr != []:\n",
    "        \n",
    "        mid = arr[len(arr) // 2]\n",
    "        \n",
    "        if mid == ele:\n",
    "            \n",
    "            return True\n",
    "    \n",
    "        elif ele < mid:\n",
    "            \n",
    "            arr = arr[:arr.index(mid)]\n",
    "            \n",
    "        elif ele > mid:\n",
    "            \n",
    "            arr = arr[arr.index(mid)+1:]\n",
    "    \n",
    "    return False\n"
   ]
  },
  {
   "cell_type": "code",
   "execution_count": 5,
   "metadata": {},
   "outputs": [
    {
     "name": "stdout",
     "output_type": "stream",
     "text": [
      "True\n",
      "False\n"
     ]
    }
   ],
   "source": [
    "arr = [1, 2, 3, 4, 5, 6, 7, 8, 9]\n",
    "\n",
    "print (binary_search(arr, 2)) \n",
    "print (binary_search(arr, 10))  "
   ]
  },
  {
   "cell_type": "markdown",
   "metadata": {},
   "source": [
    "# Binary search-recursive"
   ]
  },
  {
   "cell_type": "code",
   "execution_count": 6,
   "metadata": {},
   "outputs": [],
   "source": [
    "def binary_search_recursive(arr, ele):\n",
    "    \n",
    "    if arr == []:\n",
    "        \n",
    "        return False\n",
    "    \n",
    "    else:\n",
    "        \n",
    "        mid = arr[len(arr) // 2]\n",
    "        \n",
    "        if mid == ele:\n",
    "            \n",
    "            return True\n",
    "        \n",
    "        else:\n",
    "            \n",
    "            if mid > ele:\n",
    "                \n",
    "                arr = arr[:arr.index(mid)]\n",
    "                \n",
    "            elif mid < ele:\n",
    "                \n",
    "                arr = arr[arr.index(mid)+1:]\n",
    "                               \n",
    "            return binary_search(arr, ele) \n",
    "        "
   ]
  },
  {
   "cell_type": "code",
   "execution_count": 7,
   "metadata": {},
   "outputs": [
    {
     "name": "stdout",
     "output_type": "stream",
     "text": [
      "True\n",
      "False\n"
     ]
    }
   ],
   "source": [
    "arr = [1, 2, 3, 4, 5, 6, 7, 8, 9]\n",
    "\n",
    "print (binary_search(arr, 2)) \n",
    "print (binary_search(arr, 10))  "
   ]
  }
 ],
 "metadata": {
  "kernelspec": {
   "display_name": "Python 3",
   "language": "python",
   "name": "python3"
  },
  "language_info": {
   "codemirror_mode": {
    "name": "ipython",
    "version": 3
   },
   "file_extension": ".py",
   "mimetype": "text/x-python",
   "name": "python",
   "nbconvert_exporter": "python",
   "pygments_lexer": "ipython3",
   "version": "3.7.3"
  }
 },
 "nbformat": 4,
 "nbformat_minor": 2
}
